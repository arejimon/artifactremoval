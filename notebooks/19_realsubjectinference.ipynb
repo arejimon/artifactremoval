{
 "cells": [
  {
   "cell_type": "code",
   "execution_count": 17,
   "id": "e1f4d36b",
   "metadata": {},
   "outputs": [
    {
     "name": "stdout",
     "output_type": "stream",
     "text": [
      "\n",
      "--- Processing DOSEESC_EM09 / 11.20.2018 ---\n",
      " Saved Saumya predictions → E:\\ArtifactRemovalProject\\data\\modelinference\\DOSEESC_EM09\\11.20.2018\\ypred_saumya.npy\n",
      "WARNING:tensorflow:No training configuration found in save file, so the model was *not* compiled. Compile it manually.\n",
      " Loaded ensemble 'all_four'\n"
     ]
    },
    {
     "name": "stderr",
     "output_type": "stream",
     "text": [
      "C:\\Users\\Abinand Rejimon\\AppData\\Local\\Temp\\ipykernel_26992\\3745930109.py:89: ComplexWarning: Casting complex values to real discards the imaginary part\n",
      "  X_input = np.stack([channel_arrays[ch] for ch in info[\"channels\"]], axis=-1).astype(\"float32\")\n"
     ]
    },
    {
     "name": "stdout",
     "output_type": "stream",
     "text": [
      "32/32 [==============================] - 101s 3s/step\n",
      " Saved ensemble probs → E:\\ArtifactRemovalProject\\data\\modelinference\\DOSEESC_EM09\\11.20.2018\\probs_vol_{EXP_KEY}.npy\n",
      " Saved ensemble preds → E:\\ArtifactRemovalProject\\data\\modelinference\\DOSEESC_EM09\\11.20.2018\\preds_vol_{EXP_KEY}.npy\n",
      "\n",
      "--- Processing DOSEESC_EM09 / 12.17.2018 ---\n",
      " Saved Saumya predictions → E:\\ArtifactRemovalProject\\data\\modelinference\\DOSEESC_EM09\\12.17.2018\\ypred_saumya.npy\n",
      "WARNING:tensorflow:No training configuration found in save file, so the model was *not* compiled. Compile it manually.\n",
      " Loaded ensemble 'all_four'\n"
     ]
    },
    {
     "name": "stderr",
     "output_type": "stream",
     "text": [
      "C:\\Users\\Abinand Rejimon\\AppData\\Local\\Temp\\ipykernel_26992\\3745930109.py:89: ComplexWarning: Casting complex values to real discards the imaginary part\n",
      "  X_input = np.stack([channel_arrays[ch] for ch in info[\"channels\"]], axis=-1).astype(\"float32\")\n"
     ]
    },
    {
     "name": "stdout",
     "output_type": "stream",
     "text": [
      "32/32 [==============================] - 104s 3s/step\n",
      " Saved ensemble probs → E:\\ArtifactRemovalProject\\data\\modelinference\\DOSEESC_EM09\\12.17.2018\\probs_vol_{EXP_KEY}.npy\n",
      " Saved ensemble preds → E:\\ArtifactRemovalProject\\data\\modelinference\\DOSEESC_EM09\\12.17.2018\\preds_vol_{EXP_KEY}.npy\n",
      "\n",
      "--- Processing DOSEESC_JH07 / 08.27.2018 ---\n",
      " Saved Saumya predictions → E:\\ArtifactRemovalProject\\data\\modelinference\\DOSEESC_JH07\\08.27.2018\\ypred_saumya.npy\n",
      "WARNING:tensorflow:No training configuration found in save file, so the model was *not* compiled. Compile it manually.\n",
      " Loaded ensemble 'all_four'\n"
     ]
    },
    {
     "name": "stderr",
     "output_type": "stream",
     "text": [
      "C:\\Users\\Abinand Rejimon\\AppData\\Local\\Temp\\ipykernel_26992\\3745930109.py:89: ComplexWarning: Casting complex values to real discards the imaginary part\n",
      "  X_input = np.stack([channel_arrays[ch] for ch in info[\"channels\"]], axis=-1).astype(\"float32\")\n"
     ]
    },
    {
     "name": "stdout",
     "output_type": "stream",
     "text": [
      "32/32 [==============================] - 100s 3s/step\n",
      " Saved ensemble probs → E:\\ArtifactRemovalProject\\data\\modelinference\\DOSEESC_JH07\\08.27.2018\\probs_vol_{EXP_KEY}.npy\n",
      " Saved ensemble preds → E:\\ArtifactRemovalProject\\data\\modelinference\\DOSEESC_JH07\\08.27.2018\\preds_vol_{EXP_KEY}.npy\n",
      "\n",
      "--- Processing DOSEESC_JH07 / 09.20.2018 ---\n",
      " Saved Saumya predictions → E:\\ArtifactRemovalProject\\data\\modelinference\\DOSEESC_JH07\\09.20.2018\\ypred_saumya.npy\n",
      "WARNING:tensorflow:No training configuration found in save file, so the model was *not* compiled. Compile it manually.\n",
      " Loaded ensemble 'all_four'\n"
     ]
    },
    {
     "name": "stderr",
     "output_type": "stream",
     "text": [
      "C:\\Users\\Abinand Rejimon\\AppData\\Local\\Temp\\ipykernel_26992\\3745930109.py:89: ComplexWarning: Casting complex values to real discards the imaginary part\n",
      "  X_input = np.stack([channel_arrays[ch] for ch in info[\"channels\"]], axis=-1).astype(\"float32\")\n"
     ]
    },
    {
     "name": "stdout",
     "output_type": "stream",
     "text": [
      "32/32 [==============================] - 103s 3s/step\n",
      " Saved ensemble probs → E:\\ArtifactRemovalProject\\data\\modelinference\\DOSEESC_JH07\\09.20.2018\\probs_vol_{EXP_KEY}.npy\n",
      " Saved ensemble preds → E:\\ArtifactRemovalProject\\data\\modelinference\\DOSEESC_JH07\\09.20.2018\\preds_vol_{EXP_KEY}.npy\n",
      "\n",
      "--- Processing DOSEESC_UM08 / 06.13.2018 ---\n",
      " Saved Saumya predictions → E:\\ArtifactRemovalProject\\data\\modelinference\\DOSEESC_UM08\\06.13.2018\\ypred_saumya.npy\n",
      "WARNING:tensorflow:No training configuration found in save file, so the model was *not* compiled. Compile it manually.\n",
      " Loaded ensemble 'all_four'\n"
     ]
    },
    {
     "name": "stderr",
     "output_type": "stream",
     "text": [
      "C:\\Users\\Abinand Rejimon\\AppData\\Local\\Temp\\ipykernel_26992\\3745930109.py:89: ComplexWarning: Casting complex values to real discards the imaginary part\n",
      "  X_input = np.stack([channel_arrays[ch] for ch in info[\"channels\"]], axis=-1).astype(\"float32\")\n"
     ]
    },
    {
     "name": "stdout",
     "output_type": "stream",
     "text": [
      "32/32 [==============================] - 94s 3s/step\n",
      " Saved ensemble probs → E:\\ArtifactRemovalProject\\data\\modelinference\\DOSEESC_UM08\\06.13.2018\\probs_vol_{EXP_KEY}.npy\n",
      " Saved ensemble preds → E:\\ArtifactRemovalProject\\data\\modelinference\\DOSEESC_UM08\\06.13.2018\\preds_vol_{EXP_KEY}.npy\n",
      "\n",
      "--- Processing DOSEESC_UM08 / 07.11.2018 ---\n",
      " Saved Saumya predictions → E:\\ArtifactRemovalProject\\data\\modelinference\\DOSEESC_UM08\\07.11.2018\\ypred_saumya.npy\n",
      "WARNING:tensorflow:No training configuration found in save file, so the model was *not* compiled. Compile it manually.\n",
      " Loaded ensemble 'all_four'\n"
     ]
    },
    {
     "name": "stderr",
     "output_type": "stream",
     "text": [
      "C:\\Users\\Abinand Rejimon\\AppData\\Local\\Temp\\ipykernel_26992\\3745930109.py:89: ComplexWarning: Casting complex values to real discards the imaginary part\n",
      "  X_input = np.stack([channel_arrays[ch] for ch in info[\"channels\"]], axis=-1).astype(\"float32\")\n"
     ]
    },
    {
     "name": "stdout",
     "output_type": "stream",
     "text": [
      "32/32 [==============================] - 110s 3s/step\n",
      " Saved ensemble probs → E:\\ArtifactRemovalProject\\data\\modelinference\\DOSEESC_UM08\\07.11.2018\\probs_vol_{EXP_KEY}.npy\n",
      " Saved ensemble preds → E:\\ArtifactRemovalProject\\data\\modelinference\\DOSEESC_UM08\\07.11.2018\\preds_vol_{EXP_KEY}.npy\n",
      "\n",
      "--- Processing rGBM_001_02_27_2023 / 02.27.2023 ---\n",
      " Saved Saumya predictions → E:\\ArtifactRemovalProject\\data\\modelinference\\rGBM_001_02_27_2023\\02.27.2023\\ypred_saumya.npy\n",
      "WARNING:tensorflow:No training configuration found in save file, so the model was *not* compiled. Compile it manually.\n",
      " Loaded ensemble 'all_four'\n"
     ]
    },
    {
     "name": "stderr",
     "output_type": "stream",
     "text": [
      "C:\\Users\\Abinand Rejimon\\AppData\\Local\\Temp\\ipykernel_26992\\3745930109.py:89: ComplexWarning: Casting complex values to real discards the imaginary part\n",
      "  X_input = np.stack([channel_arrays[ch] for ch in info[\"channels\"]], axis=-1).astype(\"float32\")\n"
     ]
    },
    {
     "name": "stdout",
     "output_type": "stream",
     "text": [
      "32/32 [==============================] - 101s 3s/step\n",
      " Saved ensemble probs → E:\\ArtifactRemovalProject\\data\\modelinference\\rGBM_001_02_27_2023\\02.27.2023\\probs_vol_{EXP_KEY}.npy\n",
      " Saved ensemble preds → E:\\ArtifactRemovalProject\\data\\modelinference\\rGBM_001_02_27_2023\\02.27.2023\\preds_vol_{EXP_KEY}.npy\n"
     ]
    }
   ],
   "source": [
    "from pathlib import Path\n",
    "import numpy as np\n",
    "import tensorflow as tf\n",
    "import json\n",
    "\n",
    "# ── 0) Paths ────────────────────────────────────────────────────────────────\n",
    "BASE_DATA_DIR       = Path(r\"E:\\ArtifactRemovalProject\\data\\modelinference\")\n",
    "SAUMYA_MODEL_PATH   = Path(r\"E:\\ArtifactRemovalProject\\Saumya NNArtifact\\saved_model\\NNArtifact_tf2\")\n",
    "ENSEMBLE_CFG_PATH   = Path(r\"E:\\ArtifactRemovalProject\\results\\ensembles\\config.json\")\n",
    "EXP_KEY             = \"all_four\"   # change this if you want another ensemble\n",
    "\n",
    "# ── 1) Load ensemble config once ─────────────────────────────────────────────\n",
    "with open(ENSEMBLE_CFG_PATH, \"r\") as f:\n",
    "    ensemble_cfg = json.load(f)\n",
    "info = ensemble_cfg[EXP_KEY]\n",
    "\n",
    "# ── 2) Helper: z-score normalizer ────────────────────────────────────────────\n",
    "def zscore_per_spectrum(x, eps=1e-6):\n",
    "    mu  = x.mean(axis=1, keepdims=True)\n",
    "    std = x.std(axis=1, keepdims=True) + eps\n",
    "    return (x - mu) / std\n",
    "\n",
    "# ── 3) Main loop over subjects/dates ────────────────────────────────────────\n",
    "for subject_dir in BASE_DATA_DIR.iterdir():\n",
    "    if not subject_dir.is_dir(): \n",
    "        continue\n",
    "\n",
    "    for date_dir in subject_dir.iterdir():\n",
    "        if not date_dir.is_dir(): \n",
    "            continue\n",
    "\n",
    "        print(f\"\\n--- Processing {subject_dir.name} / {date_dir.name} ---\")\n",
    "\n",
    "        # ── 3a) Load your raw arrays ─────────────────────────────────────────\n",
    "        si    = np.load(date_dir / \"si.npy\")       # shape (Z, X, Y, S)\n",
    "        water = np.load(date_dir / \"siref.npy\")\n",
    "        fit1  = np.load(date_dir / \"midasfit.npy\")\n",
    "        fit2  = np.load(date_dir / \"nnfit.npy\")\n",
    "\n",
    "        Z, X, Y, S = si.shape\n",
    "        BATCH_SIZE = X * Y\n",
    "\n",
    "        # ── 4) Inference with Saumya's model ────────────────────────────────\n",
    "        saumya_model = tf.saved_model.load(SAUMYA_MODEL_PATH)\n",
    "        num_classes  = 2\n",
    "        ypred_saumya = np.zeros((Z, X, Y, num_classes), dtype=np.float32)\n",
    "\n",
    "        for z in range(Z):\n",
    "            xtest = np.real(si[z]).reshape(BATCH_SIZE, S)\n",
    "            preds = saumya_model.predict(xtest)            # raw logits or probabilities\n",
    "            probs = tf.nn.softmax(preds).numpy()           # ensure softmax\n",
    "            ypred_saumya[z] = probs.reshape(X, Y, num_classes)\n",
    "\n",
    "        out_path = date_dir / \"ypred_saumya.npy\"\n",
    "        np.save(out_path, ypred_saumya)\n",
    "        print(f\" Saved Saumya predictions → {out_path}\")\n",
    "\n",
    "        # Clean up Saumya's model\n",
    "        del saumya_model\n",
    "        tf.keras.backend.clear_session()\n",
    "\n",
    "        # ── 5) Inference with your ensemble model ───────────────────────────\n",
    "        model = tf.keras.models.load_model(info[\"model_path\"])\n",
    "        print(f\" Loaded ensemble '{EXP_KEY}'\")\n",
    "\n",
    "        # Flatten + preprocess each channel\n",
    "        raw_flat   = si.reshape(-1, S)\n",
    "        fit1_flat  = fit1.reshape(-1, S)\n",
    "        fit2_flat  = fit2.reshape(-1, S)\n",
    "        water_flat = water.reshape(-1, S)\n",
    "\n",
    "        raw_norm   = zscore_per_spectrum(raw_flat)\n",
    "        fit1_norm  = zscore_per_spectrum(fit1_flat)\n",
    "        fit2_norm  = zscore_per_spectrum(fit2_flat)\n",
    "\n",
    "        # log-normalize water\n",
    "        wat_log = np.log10(np.abs(water_flat) + 1e-6)\n",
    "        wmin    = wat_log.min(axis=1, keepdims=True)\n",
    "        wmax    = wat_log.max(axis=1, keepdims=True) + 1e-6\n",
    "        water_norm = (wat_log - wmin) / (wmax - wmin)\n",
    "\n",
    "        # stack channels in configured order\n",
    "        channel_arrays = {\n",
    "            \"raw\":   raw_norm,\n",
    "            \"water\": water_norm,\n",
    "            \"fit1\":  fit1_norm,\n",
    "            \"fit2\":  fit2_norm,\n",
    "        }\n",
    "        X_input = np.stack([channel_arrays[ch] for ch in info[\"channels\"]], axis=-1).astype(\"float32\")\n",
    "\n",
    "        # run inference\n",
    "        probs = model.predict(X_input, batch_size=4096).ravel()\n",
    "        thresh = info[\"threshold\"]\n",
    "        preds = (probs >= thresh).astype(np.int32) ^ 1\n",
    "\n",
    "        # reshape back to volumes\n",
    "        probs_vol = probs.reshape(Z, X, Y)\n",
    "        preds_vol = preds.reshape(Z, X, Y)\n",
    "\n",
    "        # save them\n",
    "        np.save(date_dir / f\"probs_vol_{EXP_KEY}.npy\", probs_vol)\n",
    "        np.save(date_dir / f\"preds_vol_{EXP_KEY}.npy\", preds_vol)\n",
    "        print(f\" Saved ensemble probs → {date_dir/'probs_vol_{EXP_KEY}.npy'}\")\n",
    "        print(f\" Saved ensemble preds → {date_dir/'preds_vol_{EXP_KEY}.npy'}\")\n",
    "\n",
    "        # clean up ensemble model\n",
    "        del model\n",
    "        tf.keras.backend.clear_session()\n",
    "\n"
   ]
  }
 ],
 "metadata": {
  "kernelspec": {
   "display_name": "artifact",
   "language": "python",
   "name": "python3"
  },
  "language_info": {
   "codemirror_mode": {
    "name": "ipython",
    "version": 3
   },
   "file_extension": ".py",
   "mimetype": "text/x-python",
   "name": "python",
   "nbconvert_exporter": "python",
   "pygments_lexer": "ipython3",
   "version": "3.9.15"
  }
 },
 "nbformat": 4,
 "nbformat_minor": 5
}
