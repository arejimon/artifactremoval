{
 "cells": [
  {
   "cell_type": "code",
   "execution_count": 1,
   "id": "df0fc364",
   "metadata": {},
   "outputs": [],
   "source": [
    "from pathlib import Path\n",
    "from artifactremoval.modelarch import *"
   ]
  },
  {
   "cell_type": "code",
   "execution_count": 2,
   "id": "2f257bda",
   "metadata": {},
   "outputs": [
    {
     "name": "stdout",
     "output_type": "stream",
     "text": [
      "TF version: 2.10.0\n",
      "Built with CUDA: 64_112\n",
      "Built with cuDNN: 64_8\n",
      "GPUs detected by TF: [PhysicalDevice(name='/physical_device:GPU:0', device_type='GPU')]\n"
     ]
    }
   ],
   "source": [
    "print(\"TF version:\", tf.__version__)\n",
    "print(\"Built with CUDA:\", tf.sysconfig.get_build_info().get(\"cuda_version\"))\n",
    "print(\"Built with cuDNN:\", tf.sysconfig.get_build_info().get(\"cudnn_version\"))\n",
    "print(\"GPUs detected by TF:\", tf.config.list_physical_devices('GPU'))"
   ]
  },
  {
   "cell_type": "code",
   "execution_count": null,
   "id": "8ddc45e9",
   "metadata": {},
   "outputs": [],
   "source": [
    "# Loading and normalizing the data\n",
    "\n",
    "base_dir = Path.cwd().parent\n",
    "input_dir = base_dir / \"data\" / \"ratings\" / \"aggregate_data\"\n",
    "train_data = load_most_recent_pickle(input_dir, prefix=\"spectral_train_\")\n",
    "hyperparam_dir = base_dir / \"data\" / \"hyperparam_tuning\"\n",
    "model_dir = base_dir / \"data\" / \"trained_models\"\n",
    "\n",
    "# --- Filter out entries with no consensus_rating ---\n",
    "filtered = [e for e in train_data if e.get(\"consensus_rating\") is not None]\n",
    "print(f\"Kept {len(filtered)}/{len(train_data)} spectra with valid labels\")\n",
    "\n",
    "raw_spec = np.stack([e['raw_spectrum'] for e in filtered])\n",
    "water_spec = np.stack([e['water_siref'] for e in filtered])\n",
    "fit1_spec = np.stack([e['midas_fit'] for e in filtered])\n",
    "fit2_spec = np.stack([e['nnfit'] for e in filtered])\n",
    "y = np.array([e['consensus_rating'] for e in filtered])\n",
    "\n",
    "raw_z, fit1_z, fit2_z = [\n",
    "    zscore_per_spectrum(arr) for arr in (raw_spec, fit1_spec, fit2_spec)\n",
    "]\n",
    "\n",
    "# 2) water: log-compress + min–max\n",
    "eps = 1e-6\n",
    "wlog = np.log10(np.abs(water_spec) + eps)\n",
    "wmin = wlog.min(axis=1, keepdims=True)\n",
    "wmax = wlog.max(axis=1, keepdims=True) + eps\n",
    "water_norm = (wlog - wmin) / (wmax - wmin)\n",
    "\n",
    "# 1-A  confirm shapes match\n",
    "for name, arr in zip(\n",
    "        [\"raw\",\"water\",\"fit1\",\"fit2\"], \n",
    "        [raw_z, water_norm, fit2_z, fit1_z]):\n",
    "    print(f\"{name:>4}: {arr.shape},  min={arr.min():.2f}, max={arr.max():.2f}\")\n",
    "\n",
    "assert len({a.shape for a in [raw_spec, water_spec, fit1_spec, fit2_spec]}) == 1\n",
    "assert y.shape[0] == raw_spec.shape[0]\n",
    "\n",
    "bayes_tuner = MyBayesTuner(\n",
    "    build_model,\n",
    "    objective=\"val_accuracy\",\n",
    "    max_trials=40,          # total new BO trials (incl. your seeded 10)\n",
    "    num_initial_points=0,   # skip random warm-up\n",
    "    directory=str(hyperparam_dir),\n",
    "    project_name=\"bayes_narrowed\",\n",
    ")\n",
    "\n",
    "best_trial = bayes_tuner.get_best_hyperparameters(num_trials=1)[0]\n",
    "best_hps = {\n",
    "    \"learning_rate\"  : best_trial.get(\"learning_rate\"),\n",
    "    \"dropout_rate1\"  : best_trial.get(\"dropout_rate1\"),\n",
    "    \"dropout_rate2\"  : best_trial.get(\"dropout_rate2\"),\n",
    "    \"dense_units\"    : best_trial.get(\"dense_units\"),\n",
    "    \"batch_size\"     : best_trial.get(\"batch_size\"),\n",
    "}\n"
   ]
  },
  {
   "cell_type": "code",
   "execution_count": null,
   "id": "4c4c4cfc",
   "metadata": {},
   "outputs": [],
   "source": [
    "EXPERIMENTS = {\n",
    "    \"baseline_raw\"   : [\"raw\"],\n",
    "    \"raw+water\"      : [\"raw\",\"water\"],\n",
    "    \"raw+fits\"       : [\"raw\",\"fit1\",\"fit2\"],\n",
    "    \"all_four\"       : [\"raw\",\"water\",\"fit1\",\"fit2\"],\n",
    "    \"fits+water\"     : [\"water\",\"fit1\",\"fit2\"],\n",
    "    \"fit1_only\"      : [\"fit1\"],\n",
    "    \"fit2_only\"      : [\"fit2\"],\n",
    "    \"fits_combined\"  : [\"fit1\", \"fit2\"],\n",
    "}\n",
    "\n",
    "# ---  choose whether to use tuned hyperparams or defaults ---------------\n",
    "use_tuned = True     # ← flip to False for your 1e-4/128 default\n",
    "\n",
    "# ---  run all experiments in a loop ------------------------------------\n",
    "all_fold_results = {}\n",
    "\n",
    "for exp_name, channels in EXPERIMENTS.items():\n",
    "    print(f\"\\n▶️  Running experiment '{exp_name}'  (channels: {channels})\")\n",
    "    # pass best_hps if desired, else pass tuned_hps=None\n",
    "    df = run_experiment(\n",
    "        name     = exp_name + (\"_tuned\" if use_tuned else \"\"),\n",
    "        model_dir = model_dir,\n",
    "        channels = channels,\n",
    "        raw_arr  = raw_spec,\n",
    "        water_arr= water_spec,\n",
    "        fit1_arr = fit1_spec,\n",
    "        fit2_arr = fit2_spec,\n",
    "        y        = y,\n",
    "        k        = 5,\n",
    "        seed     = 42,\n",
    "        epochs   = 40,\n",
    "        batch_size = 32,               \n",
    "        tuned_hps = best_hps if use_tuned else None,\n",
    "    )\n",
    "    all_fold_results[exp_name] = df\n",
    "\n",
    "combined = (\n",
    "    pd.concat(all_fold_results)\n",
    "      .rename_axis(index=[\"experiment\",\"row\"])\n",
    "      .reset_index(level=\"row\", drop=True)\n",
    "      .reset_index()\n",
    ")\n",
    "print(\"\\n=== Summary of all folds ===\")\n",
    "print(combined)"
   ]
  }
 ],
 "metadata": {
  "kernelspec": {
   "display_name": "myenv",
   "language": "python",
   "name": "python3"
  },
  "language_info": {
   "codemirror_mode": {
    "name": "ipython",
    "version": 3
   },
   "file_extension": ".py",
   "mimetype": "text/x-python",
   "name": "python",
   "nbconvert_exporter": "python",
   "pygments_lexer": "ipython3",
   "version": "3.9.18"
  }
 },
 "nbformat": 4,
 "nbformat_minor": 5
}
