{
 "cells": [
  {
   "cell_type": "code",
   "execution_count": 2,
   "id": "4a980d05",
   "metadata": {},
   "outputs": [
    {
     "name": "stderr",
     "output_type": "stream",
     "text": [
      "WARNING:absl:Found untraced functions such as _jit_compiled_convolution_op, _jit_compiled_convolution_op, _jit_compiled_convolution_op, _jit_compiled_convolution_op, _jit_compiled_convolution_op while saving (showing 5 of 600). These functions will not be directly callable after loading.\n"
     ]
    },
    {
     "name": "stdout",
     "output_type": "stream",
     "text": [
      "INFO:tensorflow:Assets written to: e:\\ArtifactRemovalProject\\results\\ensembles\\fits_combined_ensemble\\assets\n"
     ]
    },
    {
     "name": "stderr",
     "output_type": "stream",
     "text": [
      "INFO:tensorflow:Assets written to: e:\\ArtifactRemovalProject\\results\\ensembles\\fits_combined_ensemble\\assets\n"
     ]
    },
    {
     "name": "stdout",
     "output_type": "stream",
     "text": [
      "Saved ensemble model for 'fits_combined' to:\n",
      "  e:\\ArtifactRemovalProject\\results\\ensembles\\fits_combined_ensemble\n"
     ]
    },
    {
     "name": "stderr",
     "output_type": "stream",
     "text": [
      "WARNING:absl:Found untraced functions such as _jit_compiled_convolution_op, _jit_compiled_convolution_op, _jit_compiled_convolution_op, _jit_compiled_convolution_op, _jit_compiled_convolution_op while saving (showing 5 of 600). These functions will not be directly callable after loading.\n"
     ]
    },
    {
     "name": "stdout",
     "output_type": "stream",
     "text": [
      "INFO:tensorflow:Assets written to: e:\\ArtifactRemovalProject\\results\\ensembles\\fits+water_ensemble\\assets\n"
     ]
    },
    {
     "name": "stderr",
     "output_type": "stream",
     "text": [
      "INFO:tensorflow:Assets written to: e:\\ArtifactRemovalProject\\results\\ensembles\\fits+water_ensemble\\assets\n"
     ]
    },
    {
     "name": "stdout",
     "output_type": "stream",
     "text": [
      "Saved ensemble model for 'fits+water' to:\n",
      "  e:\\ArtifactRemovalProject\\results\\ensembles\\fits+water_ensemble\n"
     ]
    },
    {
     "name": "stderr",
     "output_type": "stream",
     "text": [
      "WARNING:absl:Found untraced functions such as _jit_compiled_convolution_op, _jit_compiled_convolution_op, _jit_compiled_convolution_op, _jit_compiled_convolution_op, _jit_compiled_convolution_op while saving (showing 5 of 600). These functions will not be directly callable after loading.\n"
     ]
    },
    {
     "name": "stdout",
     "output_type": "stream",
     "text": [
      "INFO:tensorflow:Assets written to: e:\\ArtifactRemovalProject\\results\\ensembles\\all_four_ensemble\\assets\n"
     ]
    },
    {
     "name": "stderr",
     "output_type": "stream",
     "text": [
      "INFO:tensorflow:Assets written to: e:\\ArtifactRemovalProject\\results\\ensembles\\all_four_ensemble\\assets\n"
     ]
    },
    {
     "name": "stdout",
     "output_type": "stream",
     "text": [
      "Saved ensemble model for 'all_four' to:\n",
      "  e:\\ArtifactRemovalProject\\results\\ensembles\\all_four_ensemble\n"
     ]
    }
   ],
   "source": [
    "import tensorflow as tf\n",
    "from pathlib import Path\n",
    "import numpy as np\n",
    "\n",
    "# ── 1) Define a Soft‐Voting Ensemble Model ─────────────────────────────────\n",
    "class SoftVotingEnsemble(tf.keras.Model):\n",
    "    def __init__(self, member_paths):\n",
    "        super().__init__()\n",
    "        # Load each fold‐model\n",
    "        self.members = [tf.keras.models.load_model(str(p)) for p in member_paths]\n",
    "\n",
    "    @tf.function(input_signature=[tf.TensorSpec([None, 512, None], tf.float32)])\n",
    "    def call(self, inputs):\n",
    "        # Collect each member’s probabilities\n",
    "        preds = [m(inputs, training=False) for m in self.members]\n",
    "        # Average over the first axis (models)\n",
    "        return tf.reduce_mean(tf.stack(preds, axis=0), axis=0)\n",
    "\n",
    "# ── 2) Paths & Top‐3 Selection ──────────────────────────────────────────────\n",
    "base_dir   = Path.cwd().parent\n",
    "model_dir  = base_dir / \"data\" / \"trained_models\"\n",
    "output_dir = base_dir / \"results\" / \"ensembles\"\n",
    "output_dir.mkdir(parents=True, exist_ok=True)\n",
    "\n",
    "\n",
    "EXPERIMENTS = {\n",
    "    \"baseline_raw\"   : [\"raw\"],\n",
    "    \"raw+water\"      : [\"raw\",\"water\"],\n",
    "    \"raw+fits\"       : [\"raw\",\"fit1\",\"fit2\"],\n",
    "    \"all_four\"       : [\"raw\",\"water\",\"fit1\",\"fit2\"],\n",
    "    \"fits+water\"     : [\"water\",\"fit1\",\"fit2\"],\n",
    "    \"fit1_only\"      : [\"fit1\"],\n",
    "    \"fit2_only\"      : [\"fit2\"],\n",
    "    \"fits_combined\"  : [\"fit1\", \"fit2\"],\n",
    "}\n",
    "\n",
    "# Suppose `top3_keys` is your list of the three best experiment names:\n",
    "top3_keys = ['fits_combined', 'fits+water', 'all_four']\n",
    "\n",
    "\n",
    "# ── 3) Instantiate & Save Each Ensemble ────────────────────────────────────\n",
    "for exp_key in top3_keys:\n",
    "    # Paths to the 5 fold models\n",
    "    member_paths = [model_dir / f\"{exp_key}_tuned_fold{fold}\" for fold in range(1, 6)]\n",
    "    # Build the ensemble model\n",
    "    ensemble_model = SoftVotingEnsemble(member_paths)\n",
    "    # suppose for this experiment you have n_ch channels:\n",
    "    channels = EXPERIMENTS[exp_key]\n",
    "    n_ch = len(channels)\n",
    "    # 2) bind the model to an input shape\n",
    "    ensemble_model.build(input_shape=(None, 512, n_ch))\n",
    "    # Save as TensorFlow SavedModel\n",
    "    save_path = output_dir / f\"{exp_key}_ensemble\"\n",
    "    tf.keras.models.save_model(ensemble_model, str(save_path), include_optimizer=False)\n",
    "    print(f\"Saved ensemble model for '{exp_key}' to:\\n  {save_path}\")\n"
   ]
  }
 ],
 "metadata": {
  "kernelspec": {
   "display_name": "testenv",
   "language": "python",
   "name": "python3"
  },
  "language_info": {
   "codemirror_mode": {
    "name": "ipython",
    "version": 3
   },
   "file_extension": ".py",
   "mimetype": "text/x-python",
   "name": "python",
   "nbconvert_exporter": "python",
   "pygments_lexer": "ipython3",
   "version": "3.9.18"
  }
 },
 "nbformat": 4,
 "nbformat_minor": 5
}
