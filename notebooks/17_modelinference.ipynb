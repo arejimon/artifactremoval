{
 "cells": [
  {
   "cell_type": "code",
   "execution_count": null,
   "id": "711a6145",
   "metadata": {},
   "outputs": [],
   "source": [
    "# Step 2. Apply Saumya Artifact Filter\n",
    "# Step 3. Apply My Artifact Filters\n",
    "# Step 4. Graph Side By Side"
   ]
  },
  {
   "cell_type": "code",
   "execution_count": null,
   "id": "4c0bf867",
   "metadata": {},
   "outputs": [],
   "source": [
    "import json\n",
    "import numpy as np\n",
    "import pandas as pd\n",
    "import tensorflow as tf\n",
    "import gc\n",
    "from pathlib import Path\n",
    "from sklearn.preprocessing import LabelEncoder\n",
    "from artifactremoval.modelarch import *\n",
    "\n",
    "# ── 1) Paths & load config ─────────────────────────────────────────────────\n",
    "base_dir     = Path.cwd().parent\n",
    "input_dir    = base_dir / \"data\" / \"ratings\" / \"aggregate_data\"\n",
    "ensemble_dir = base_dir / \"results\" / \"ensembles\"\n",
    "config_path  = ensemble_dir / \"config.json\"\n",
    "\n",
    "with open(config_path, \"r\") as f:\n",
    "    config = json.load(f)\n",
    "\n",
    "# ── 2) Load and filter test data ───────────────────────────────────────────\n",
    "test_data = load_most_recent_pickle(input_dir, prefix=\"spectral_test_\")\n",
    "filtered  = [e for e in test_data if \"unique_id\" in e]\n",
    "ids       = [e[\"unique_id\"] for e in filtered]\n",
    "\n",
    "# ── 3) Preprocess spectra once ─────────────────────────────────────────────\n",
    "train_data   = load_most_recent_pickle(input_dir, prefix=\"spectral_train_\")\n",
    "train_labels = [e[\"consensus_rating\"] for e in train_data if e.get(\"consensus_rating\") is not None]\n",
    "le           = LabelEncoder().fit(train_labels)\n",
    "raw_te, wat_te, f1_te, f2_te, y_te, _ = preprocess(filtered, label_encoder=le)\n",
    "\n",
    "idxs = np.arange(len(y_te))\n",
    "df = pd.DataFrame({\"unique_id\": ids})\n",
    "\n",
    "# ── 4) Sequentially load each ensemble, predict, then unload ───────────────\n",
    "for exp_key, info in config.items():\n",
    "    # Load model\n",
    "    model = tf.keras.models.load_model(info[\"model_path\"])\n",
    "    # Build input tensor\n",
    "    X_test = build_tensor(idxs, info[\"channels\"], raw_te, wat_te, f1_te, f2_te)\n",
    "    # Predict probabilities\n",
    "    probs = model.predict(X_test, batch_size=info[\"batch_size\"]).ravel()\n",
    "    # Threshold at Youden’s J\n",
    "    preds = (probs >= info[\"threshold\"]).astype(int)\n",
    "    # Store results\n",
    "    df[f\"{exp_key}_score\"]       = probs\n",
    "    df[f\"{exp_key}_pred\"]        = preds\n",
    "    df[f\"{exp_key}_uncertainty\"] = np.nan  # placeholder: compute if needed\n",
    "    # Unload model to free memory\n",
    "    del model\n",
    "    tf.keras.backend.clear_session()\n",
    "    gc.collect()\n"
   ]
  },
  {
   "cell_type": "code",
   "execution_count": null,
   "id": "62d5e146",
   "metadata": {},
   "outputs": [],
   "source": [
    "\n",
    "# ── 5) Save to CSV ─────────────────────────────────────────────────────────\n",
    "out_csv = base_dir / \"results\" / \"top3_ensemble_predictions.csv\"\n",
    "df.to_csv(out_csv, index=False)\n",
    "print(f\"Saved predictions to: {out_csv}\")\n"
   ]
  },
  {
   "cell_type": "code",
   "execution_count": null,
   "id": "c672001b",
   "metadata": {},
   "outputs": [],
   "source": [
    "import pandas as pd\n",
    "from pathlib import Path\n",
    "import ast\n",
    "\n",
    "# 1) File paths\n",
    "base_dir     = Path.cwd().parent\n",
    "ratings_csv  = base_dir / \"data\" / \"ratings\" / \"aggregate_data\" / \"aggregated_spectral_ratings.csv\"\n",
    "preds_csv    = base_dir / \"results\" / \"top3_ensemble_predictions.csv\"\n",
    "output_csv   = base_dir / \"results\" / \"combined_ratings_predictions.csv\"\n",
    "\n",
    "# 2) Load tables\n",
    "df_ratings = pd.read_csv(ratings_csv)\n",
    "df_preds   = pd.read_csv(preds_csv)\n",
    "\n",
    "# 3) Merge on unique_id\n",
    "df_combined = pd.merge(df_ratings, df_preds, on=\"unique_id\", how=\"inner\")\n",
    "\n",
    "# 5) Save the combined table and inspect the first rows\n",
    "df_combined.to_csv(output_csv, index=False)\n",
    "print(df_combined.head(10))\n",
    "\n"
   ]
  }
 ],
 "metadata": {
  "kernelspec": {
   "display_name": "artifact",
   "language": "python",
   "name": "python3"
  },
  "language_info": {
   "codemirror_mode": {
    "name": "ipython",
    "version": 3
   },
   "file_extension": ".py",
   "mimetype": "text/x-python",
   "name": "python",
   "nbconvert_exporter": "python",
   "pygments_lexer": "ipython3",
   "version": "3.9.15"
  }
 },
 "nbformat": 4,
 "nbformat_minor": 5
}
