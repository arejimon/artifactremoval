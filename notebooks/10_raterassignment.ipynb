{
 "cells": [
  {
   "cell_type": "code",
   "execution_count": 3,
   "id": "2fd1fb6e",
   "metadata": {},
   "outputs": [
    {
     "name": "stdout",
     "output_type": "stream",
     "text": [
      "[WindowsPath('x:/ArtifactRemovalProject/data/processed/20250411_202214/unique_ids_group_25_20250411_202222.pkl')]\n",
      "x:\\ArtifactRemovalProject\\data\\processed\\20250411_202214\\unique_ids_group_25_20250411_202222_raters.pkl\n"
     ]
    }
   ],
   "source": [
    "import pickle\n",
    "import random\n",
    "from pathlib import Path\n",
    "import itertools\n",
    "\n",
    "# -- 1. Define raters and paths --\n",
    "IDENTITIES = [\n",
    "    \"Hyunsuk Shim\", \"Brent Weinberg\", \"Sulaiman Sheriff\", \n",
    "    \"Peter Barker\", \"Andrew Maudsley\", \"Eric Mellon\", \n",
    "    \"Brian Soher\", \"Hui-Kuo Shu\", \"Harish Poptani\",\n",
    "     \"Karthik Ramesh\"\n",
    "]\n",
    "\n",
    "# The \"regular\" raters we use to assign 3 each\n",
    "REGULAR_RATERS = [\n",
    "    \"Hyunsuk Shim\", \"Brent Weinberg\", \"Sulaiman Sheriff\", \n",
    "    \"Peter Barker\", \"Andrew Maudsley\", \"Eric Mellon\", \n",
    "    \"Brian Soher\", \"Hui-Kuo Shu\", \"Harish Poptani\"\n",
    "]\n",
    "\n",
    "# Paths\n",
    "base_dir = Path.cwd().parent\n",
    "processed_folder = base_dir / \"data\" / \"processed\" / \"20250411_202214\"\n",
    "spectral_file_pattern = \"unique_ids_group_25_*.pkl\" \n",
    "\n",
    "# Use glob to retrieve a list of files that match the pattern\n",
    "matching_files = list(processed_folder.glob(spectral_file_pattern))\n",
    "print(matching_files)\n",
    "if not matching_files:\n",
    "    raise FileNotFoundError(f\"No file found matching pattern {spectral_file_pattern}\")\n",
    "\n",
    "# If more than one file is found, you can choose the first one or apply further filtering.\n",
    "spectral_file = matching_files[0]\n",
    "\n",
    "# For the output file, add \"_raters\" to the stem of the original file name\n",
    "spectral_file_assigned = spectral_file.parent / (spectral_file.stem + \"_raters\" + spectral_file.suffix)\n",
    "print(spectral_file_assigned)\n"
   ]
  },
  {
   "cell_type": "code",
   "execution_count": 4,
   "id": "ef9e2fc8",
   "metadata": {},
   "outputs": [
    {
     "name": "stderr",
     "output_type": "stream",
     "text": [
      "c:\\Users\\VHUANG9\\.conda\\envs\\myenv\\lib\\site-packages\\numpy\\_distributor_init.py:30: UserWarning: loaded more than 1 DLL from .libs:\n",
      "c:\\Users\\VHUANG9\\.conda\\envs\\myenv\\lib\\site-packages\\numpy\\.libs\\libopenblas.EL2C6PLE4ZYW3ECEVIV3OXXGRN2NRFM2.gfortran-win_amd64.dll\n",
      "c:\\Users\\VHUANG9\\.conda\\envs\\myenv\\lib\\site-packages\\numpy\\.libs\\libopenblas.FB5AE2TYXYH2IJRDKGDGQ3XBKLKTF43H.gfortran-win_amd64.dll\n",
      "  warnings.warn(\"loaded more than 1 DLL from .libs:\"\n"
     ]
    },
    {
     "name": "stdout",
     "output_type": "stream",
     "text": [
      "Assignments per regular rater:\n",
      "Hyunsuk Shim: 1822\n",
      "Brent Weinberg: 1822\n",
      "Sulaiman Sheriff: 1822\n",
      "Peter Barker: 1821\n",
      "Andrew Maudsley: 1821\n",
      "Eric Mellon: 1821\n",
      "Brian Soher: 1821\n",
      "Hui-Kuo Shu: 1821\n",
      "Harish Poptani: 1821\n",
      "\n",
      "Number of spectra with 'Karthik Ramesh' added: 5 (expected: 5)\n",
      "\n",
      "Updated spectral data saved to: x:\\ArtifactRemovalProject\\data\\processed\\20250411_202214\\unique_ids_group_25_20250411_202222_raters.pkl\n"
     ]
    }
   ],
   "source": [
    "with open(spectral_file, \"rb\") as file:\n",
    "    spectral_data = pickle.load(file)\n",
    "\n",
    "# Ensure each entry has an 'assigned_raters' field starting as an empty list\n",
    "for entry in spectral_data:\n",
    "    entry[\"assigned_raters\"] = []\n",
    "\n",
    "# -- 3. Balanced assignment of 3 raters from the pool for all spectra --\n",
    "rater_counts = {rater: 0 for rater in REGULAR_RATERS}\n",
    "\n",
    "# For every spectrum, choose a valid combination of 3 raters that satisfies:\n",
    "#    - Sulaiman Sheriff and Andrew Maudsley are NOT assigned together\n",
    "#    - Peter Barker and Brian Soher are NOT assigned together\n",
    "for entry in spectral_data:\n",
    "    valid_combinations = []\n",
    "    # Evaluate all combinations of 3 out of the REGULAR_RATERS\n",
    "    for combo in itertools.combinations(REGULAR_RATERS, 3):\n",
    "        # Exclude if forbidden pairs are present:\n",
    "        if (\"Sulaiman Sheriff\" in combo and \"Andrew Maudsley\" in combo):\n",
    "            continue\n",
    "        if (\"Peter Barker\" in combo and \"Brian Soher\" in combo):\n",
    "            continue\n",
    "        # Compute a score based on current assignment counts to favor a balanced distribution\n",
    "        combo_score = sum(rater_counts[rater] for rater in combo)\n",
    "        valid_combinations.append((combo_score, combo))\n",
    "    \n",
    "    # Choose the valid combination with the minimum total assignment count\n",
    "    if valid_combinations:\n",
    "        _, selected_raters = min(valid_combinations, key=lambda x: x[0])\n",
    "    else:\n",
    "        # Fallback to the default assignment if no valid combo is found (this branch should rarely be hit)\n",
    "        selected_raters = sorted(REGULAR_RATERS, key=lambda r: rater_counts[r])[:3]\n",
    "    \n",
    "    # Assign the chosen raters to the entry\n",
    "    entry[\"assigned_raters\"] = list(selected_raters)\n",
    "    \n",
    "    # Update the assignment counts for the selected raters\n",
    "    for rater in selected_raters:\n",
    "        rater_counts[rater] += 1\n",
    "\n",
    "# -- 4. Randomly select 5 spectra to also include \"Karthik Ramesh\" --\n",
    "five_for_karthik = random.sample(spectral_data, 5)\n",
    "for entry in five_for_karthik:\n",
    "    if \"Karthik Ramesh\" not in entry[\"assigned_raters\"]:\n",
    "        entry[\"assigned_raters\"].append(\"Karthik Ramesh\")\n",
    "\n",
    "# -- 5. Print final counts and verification --\n",
    "print(\"Assignments per regular rater:\")\n",
    "for rater in REGULAR_RATERS:\n",
    "    print(f\"{rater}: {rater_counts[rater]}\")\n",
    "\n",
    "# Verify that exactly 5 spectra include Karthik Ramesh\n",
    "karthik_test_count = sum(1 for entry in spectral_data if \"Karthik Ramesh\" in entry[\"assigned_raters\"])\n",
    "print(f\"\\nNumber of spectra with 'Karthik Ramesh' added: {karthik_test_count} (expected: 5)\")\n",
    "\n",
    "# -- 6. Save updated data --\n",
    "with open(spectral_file_assigned, \"wb\") as file:\n",
    "    pickle.dump(spectral_data, file)\n",
    "\n",
    "print(f\"\\nUpdated spectral data saved to: {spectral_file_assigned}\")\n"
   ]
  },
  {
   "cell_type": "code",
   "execution_count": 5,
   "id": "a0b69229",
   "metadata": {},
   "outputs": [
    {
     "name": "stdout",
     "output_type": "stream",
     "text": [
      "\n",
      "Random sample of 5 spectra with assigned raters:\n",
      "Unique ID: DOSEESC_UM21_05.01.2019_21_28_40\n",
      "Assigned Raters: ['Brian Soher', 'Hui-Kuo Shu', 'Harish Poptani']\n",
      "----------------------------------------\n",
      "Unique ID: DOSEESC_JH02_06.18.2018_13_36_17\n",
      "Assigned Raters: ['Brian Soher', 'Hui-Kuo Shu', 'Harish Poptani']\n",
      "----------------------------------------\n",
      "Unique ID: DOSEESC_EM02_11.14.2017_13_35_18\n",
      "Assigned Raters: ['Brian Soher', 'Hui-Kuo Shu', 'Harish Poptani']\n",
      "----------------------------------------\n",
      "Unique ID: wholeGBM_004_07_03_2023_07.03.2023_24_34_35\n",
      "Assigned Raters: ['Brian Soher', 'Hui-Kuo Shu', 'Harish Poptani']\n",
      "----------------------------------------\n",
      "Unique ID: rGBM_006_08_01_2023_08.01.2023_19_43_25\n",
      "Assigned Raters: ['Hyunsuk Shim', 'Brent Weinberg', 'Sulaiman Sheriff']\n",
      "----------------------------------------\n"
     ]
    }
   ],
   "source": [
    "# -- 7. Display a random sample of five spectra with their unique IDs and assigned raters for verification --\n",
    "print(\"\\nRandom sample of 5 spectra with assigned raters:\")\n",
    "sample_to_display = random.sample(spectral_data, 5)\n",
    "for entry in sample_to_display:\n",
    "    unique_id = entry.get(\"unique_id\", \"Unknown ID\")\n",
    "    raters = entry[\"assigned_raters\"]\n",
    "    print(f\"Unique ID: {unique_id}\")\n",
    "    print(f\"Assigned Raters: {raters}\\n{'-'*40}\")"
   ]
  }
 ],
 "metadata": {
  "kernelspec": {
   "display_name": "myenv",
   "language": "python",
   "name": "python3"
  },
  "language_info": {
   "codemirror_mode": {
    "name": "ipython",
    "version": 3
   },
   "file_extension": ".py",
   "mimetype": "text/x-python",
   "name": "python",
   "nbconvert_exporter": "python",
   "pygments_lexer": "ipython3",
   "version": "3.9.18"
  }
 },
 "nbformat": 4,
 "nbformat_minor": 5
}
